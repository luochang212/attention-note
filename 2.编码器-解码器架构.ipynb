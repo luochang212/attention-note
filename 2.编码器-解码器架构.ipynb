{
 "cells": [
  {
   "cell_type": "markdown",
   "id": "4b9e1f47-1621-422e-b7b5-9ff2c565f8f1",
   "metadata": {},
   "source": [
    "# 编码器-解码器架构\n",
    "\n",
    "要点：\n",
    "\n",
    "- 编码器：接受长度可变的序列作为输入，并将其转换为具有 **固定形状** 的编码状态，可以是双向\n",
    "- 解码器：将固定形状的编码状态映射到长度可变的序列，此步骤可接受额外的输入"
   ]
  },
  {
   "cell_type": "code",
   "execution_count": 1,
   "id": "ee61990e-116f-4729-8090-6dbd5d651bd2",
   "metadata": {
    "execution": {
     "iopub.execute_input": "2024-05-26T16:37:24.380077Z",
     "iopub.status.busy": "2024-05-26T16:37:24.379595Z",
     "iopub.status.idle": "2024-05-26T16:37:25.902117Z",
     "shell.execute_reply": "2024-05-26T16:37:25.901534Z",
     "shell.execute_reply.started": "2024-05-26T16:37:24.380050Z"
    }
   },
   "outputs": [],
   "source": [
    "# 编码器\n",
    "from torch import nn\n",
    "\n",
    "class Encoder(nn.Module):\n",
    "    def __init__(self, **kwargs):\n",
    "        super(Encoder, self).__init__(**kwargs)\n",
    "\n",
    "    def forward(self, X, *args):\n",
    "        raise NotImplementedError"
   ]
  },
  {
   "cell_type": "code",
   "execution_count": 2,
   "id": "4de09453-f536-4428-abbc-0e2d9260433a",
   "metadata": {
    "execution": {
     "iopub.execute_input": "2024-05-26T16:37:25.903839Z",
     "iopub.status.busy": "2024-05-26T16:37:25.903288Z",
     "iopub.status.idle": "2024-05-26T16:37:25.909132Z",
     "shell.execute_reply": "2024-05-26T16:37:25.908262Z",
     "shell.execute_reply.started": "2024-05-26T16:37:25.903785Z"
    }
   },
   "outputs": [],
   "source": [
    "# 解码器\n",
    "class Decoder(nn.Module):\n",
    "    def __init__(self, **kwargs):\n",
    "        super(Decoder, self).__init__(**kwargs)\n",
    "\n",
    "    def init_state(self, enc_outputs, *args):\n",
    "        raise NotImplementedError\n",
    "\n",
    "    def forward(self, X, state):\n",
    "        raise NotImplementedError"
   ]
  },
  {
   "cell_type": "code",
   "execution_count": 3,
   "id": "cc5b8745-64d8-4fc7-8989-a8cee0eacd5b",
   "metadata": {
    "execution": {
     "iopub.execute_input": "2024-05-26T16:37:25.911013Z",
     "iopub.status.busy": "2024-05-26T16:37:25.910553Z",
     "iopub.status.idle": "2024-05-26T16:37:25.916090Z",
     "shell.execute_reply": "2024-05-26T16:37:25.915330Z",
     "shell.execute_reply.started": "2024-05-26T16:37:25.910987Z"
    }
   },
   "outputs": [],
   "source": [
    "# 合并编码器和解码器\n",
    "class EncoderDecoder(nn.Module):\n",
    "    def __init__(self, encoder, decoder, **kwargs):\n",
    "        super(EncoderDecoder, self).__init__(**kwargs)\n",
    "        self.encoder = encoder\n",
    "        self.decoder = decoder\n",
    "    \n",
    "    def forward(self, enc_X, dec_X, *args):\n",
    "        enc_outputs = self.encoder(enc_X, *args)\n",
    "        dec_state = self.decoder.init_state(enc_outputs, *args)\n",
    "        return self.decoder(dec_X, dec_state)"
   ]
  },
  {
   "cell_type": "code",
   "execution_count": null,
   "id": "d16f5298-705d-414b-9ff7-54fa39f51f49",
   "metadata": {},
   "outputs": [],
   "source": []
  }
 ],
 "metadata": {
  "kernelspec": {
   "display_name": "Python 3 (ipykernel)",
   "language": "python",
   "name": "python3"
  },
  "language_info": {
   "codemirror_mode": {
    "name": "ipython",
    "version": 3
   },
   "file_extension": ".py",
   "mimetype": "text/x-python",
   "name": "python",
   "nbconvert_exporter": "python",
   "pygments_lexer": "ipython3",
   "version": "3.10.14"
  }
 },
 "nbformat": 4,
 "nbformat_minor": 5
}
