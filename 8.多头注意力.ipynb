{
 "cells": [
  {
   "cell_type": "markdown",
   "id": "3ca6372b-c7ec-4260-bfbe-eb80803fd670",
   "metadata": {},
   "source": [
    "# 多头注意力"
   ]
  },
  {
   "cell_type": "code",
   "execution_count": 1,
   "id": "5d7bed9f-314e-40b4-aafe-c663402e4a80",
   "metadata": {
    "execution": {
     "iopub.execute_input": "2024-06-15T07:46:42.760226Z",
     "iopub.status.busy": "2024-06-15T07:46:42.759795Z",
     "iopub.status.idle": "2024-06-15T07:46:46.015810Z",
     "shell.execute_reply": "2024-06-15T07:46:46.014741Z",
     "shell.execute_reply.started": "2024-06-15T07:46:42.760201Z"
    }
   },
   "outputs": [],
   "source": [
    "import math\n",
    "import torch\n",
    "from torch import nn\n",
    "import d2l_torch as d2l"
   ]
  },
  {
   "cell_type": "code",
   "execution_count": 2,
   "id": "a1e706f0-ad7f-48ac-bc21-157980419757",
   "metadata": {
    "execution": {
     "iopub.execute_input": "2024-06-15T07:46:46.017760Z",
     "iopub.status.busy": "2024-06-15T07:46:46.016950Z",
     "iopub.status.idle": "2024-06-15T07:46:46.027110Z",
     "shell.execute_reply": "2024-06-15T07:46:46.026070Z",
     "shell.execute_reply.started": "2024-06-15T07:46:46.017728Z"
    }
   },
   "outputs": [],
   "source": [
    "# 非常好代码，因为非常贴近公式\n",
    "class MultiHeadAttention(nn.Module):\n",
    "    def __init__(self, key_size, query_size, value_size, num_hiddens,\n",
    "                 num_heads, dropout, bias=False, **kwargs):\n",
    "        super().__init__(**kwargs)\n",
    "        self.num_heads = num_heads\n",
    "        self.attention = DotProductAttention(dropout)\n",
    "        self.W_q = nn.Linear(query_size, num_hiddens, bias=bias)\n",
    "        self.W_k = nn.Linear(key_size, num_hiddens, bias=bias)\n",
    "        self.W_v = nn.Linear(value_size, num_hiddens, bias=bias)\n",
    "        self.W_o = nn.Linear(num_hiddens, num_hiddens, bias=bias)\n",
    "\n",
    "    def forward(self, queries, keys, values, valid_lens):\n",
    "        queries = transpose_qkv(self.W_q(queries), self.num_heads)\n",
    "        keys = transpose_qkv(self.W_k(keys), self.num_heads)\n",
    "        values = transpose_qkv(self.W_v(values), self.num_heads)\n",
    "\n",
    "        if valid_lens is not None:\n",
    "            valid_lens = torch.repeat_interleave(\n",
    "                valid_lens, repeats=self.num_heads, dim=0)\n",
    "        output = self.attention(queries, keys, values, valid_lens)\n",
    "        output_concat = transpose_output(output, self.num_heads)\n",
    "        return self.W_o(output_concat)"
   ]
  },
  {
   "cell_type": "code",
   "execution_count": 3,
   "id": "8ac586c3-1638-4c31-bc19-d786041fc6b1",
   "metadata": {
    "execution": {
     "iopub.execute_input": "2024-06-15T07:46:46.029189Z",
     "iopub.status.busy": "2024-06-15T07:46:46.028529Z",
     "iopub.status.idle": "2024-06-15T07:46:46.036497Z",
     "shell.execute_reply": "2024-06-15T07:46:46.035597Z",
     "shell.execute_reply.started": "2024-06-15T07:46:46.029145Z"
    }
   },
   "outputs": [],
   "source": [
    "def transpose_qkv(X, num_heads):\n",
    "    X = X.reshape(X.shape[0], X.shape[1], num_heads, -1)\n",
    "    X = X.permute(0, 2, 1, 3)\n",
    "    return X.reshape(-1, X.shape[2], X.shape[3])\n",
    "\n",
    "def transpose_output(X, num_heads):\n",
    "    X = X.reshape(-1, num_heads, X.shape[1], X.shape[2])\n",
    "    X = X.permute(0, 2, 1, 3)\n",
    "    return X.reshape(X.shape[0], X.shape[1], -1)"
   ]
  },
  {
   "cell_type": "code",
   "execution_count": 4,
   "id": "f65de707-58ae-4e7c-ac3e-0c66b0958dc9",
   "metadata": {
    "execution": {
     "iopub.execute_input": "2024-06-15T07:46:46.037906Z",
     "iopub.status.busy": "2024-06-15T07:46:46.037498Z",
     "iopub.status.idle": "2024-06-15T07:46:46.043114Z",
     "shell.execute_reply": "2024-06-15T07:46:46.042426Z",
     "shell.execute_reply.started": "2024-06-15T07:46:46.037877Z"
    }
   },
   "outputs": [],
   "source": [
    "class DotProductAttention(nn.Module):\n",
    "    \"\"\"缩放点积注意力\"\"\"\n",
    "    def __init__(self, dropout, **kwargs):\n",
    "        super(DotProductAttention, self).__init__(**kwargs)\n",
    "        self.dropout = nn.Dropout(dropout)\n",
    "\n",
    "    # queries的形状：(batch_size，查询的个数，d)\n",
    "    # keys的形状：(batch_size，“键－值”对的个数，d)\n",
    "    # values的形状：(batch_size，“键－值”对的个数，值的维度)\n",
    "    # valid_lens的形状:(batch_size，)或者(batch_size，查询的个数)\n",
    "    def forward(self, queries, keys, values, valid_lens=None):\n",
    "        d = queries.shape[-1]\n",
    "        # 设置transpose_b=True为了交换keys的最后两个维度\n",
    "        scores = torch.bmm(queries, keys.transpose(1,2)) / math.sqrt(d)\n",
    "        self.attention_weights = masked_softmax(scores, valid_lens)\n",
    "        return torch.bmm(self.dropout(self.attention_weights), values)"
   ]
  },
  {
   "cell_type": "code",
   "execution_count": 5,
   "id": "e7ea08b5-d90e-4725-ba9c-3f10da31c5e6",
   "metadata": {
    "execution": {
     "iopub.execute_input": "2024-06-15T07:46:46.049190Z",
     "iopub.status.busy": "2024-06-15T07:46:46.048918Z",
     "iopub.status.idle": "2024-06-15T07:46:46.053828Z",
     "shell.execute_reply": "2024-06-15T07:46:46.053116Z",
     "shell.execute_reply.started": "2024-06-15T07:46:46.049170Z"
    }
   },
   "outputs": [],
   "source": [
    "def masked_softmax(X, valid_lens):\n",
    "    \"\"\"通过在最后一个轴上掩蔽元素来执行softmax操作\"\"\"\n",
    "    # X:3D张量，valid_lens:1D或2D张量\n",
    "    if valid_lens is None:\n",
    "        return nn.functional.softmax(X, dim=-1)\n",
    "    else:\n",
    "        shape = X.shape\n",
    "        if valid_lens.dim() == 1:\n",
    "            valid_lens = torch.repeat_interleave(valid_lens, shape[1])\n",
    "        else:\n",
    "            valid_lens = valid_lens.reshape(-1)\n",
    "        # 最后一轴上被掩蔽的元素使用一个非常大的负值替换，从而其softmax输出为0\n",
    "        X = d2l.sequence_mask(X.reshape(-1, shape[-1]), valid_lens,\n",
    "                              value=-1e6)\n",
    "        return nn.functional.softmax(X.reshape(shape), dim=-1)"
   ]
  },
  {
   "cell_type": "code",
   "execution_count": 6,
   "id": "17b9be7f-777f-4123-b65e-611342dfabfd",
   "metadata": {
    "execution": {
     "iopub.execute_input": "2024-06-15T07:46:46.055507Z",
     "iopub.status.busy": "2024-06-15T07:46:46.054744Z",
     "iopub.status.idle": "2024-06-15T07:46:46.064330Z",
     "shell.execute_reply": "2024-06-15T07:46:46.063411Z",
     "shell.execute_reply.started": "2024-06-15T07:46:46.055479Z"
    }
   },
   "outputs": [
    {
     "data": {
      "text/plain": [
       "MultiHeadAttention(\n",
       "  (attention): DotProductAttention(\n",
       "    (dropout): Dropout(p=0.5, inplace=False)\n",
       "  )\n",
       "  (W_q): Linear(in_features=100, out_features=100, bias=False)\n",
       "  (W_k): Linear(in_features=100, out_features=100, bias=False)\n",
       "  (W_v): Linear(in_features=100, out_features=100, bias=False)\n",
       "  (W_o): Linear(in_features=100, out_features=100, bias=False)\n",
       ")"
      ]
     },
     "execution_count": 6,
     "metadata": {},
     "output_type": "execute_result"
    }
   ],
   "source": [
    "num_hiddens, num_heads = 100, 5\n",
    "attention = MultiHeadAttention(num_hiddens, num_hiddens, num_hiddens,\n",
    "                               num_hiddens, num_heads, 0.5)\n",
    "attention.eval()"
   ]
  },
  {
   "cell_type": "code",
   "execution_count": 7,
   "id": "7b18a29c-7a13-4c24-9720-24e7fc1eac17",
   "metadata": {
    "execution": {
     "iopub.execute_input": "2024-06-15T07:46:46.066241Z",
     "iopub.status.busy": "2024-06-15T07:46:46.065709Z",
     "iopub.status.idle": "2024-06-15T07:46:46.095808Z",
     "shell.execute_reply": "2024-06-15T07:46:46.095119Z",
     "shell.execute_reply.started": "2024-06-15T07:46:46.066211Z"
    }
   },
   "outputs": [
    {
     "data": {
      "text/plain": [
       "torch.Size([2, 4, 100])"
      ]
     },
     "execution_count": 7,
     "metadata": {},
     "output_type": "execute_result"
    }
   ],
   "source": [
    "batch_size, num_queries = 2, 4\n",
    "num_kvpairs, valid_lens = 6, torch.tensor([3, 2])\n",
    "X = torch.ones((batch_size, num_queries, num_hiddens))\n",
    "Y = torch.ones((batch_size, num_kvpairs, num_hiddens))\n",
    "attention(X, Y, Y, valid_lens).shape"
   ]
  }
 ],
 "metadata": {
  "kernelspec": {
   "display_name": "Python 3 (ipykernel)",
   "language": "python",
   "name": "python3"
  },
  "language_info": {
   "codemirror_mode": {
    "name": "ipython",
    "version": 3
   },
   "file_extension": ".py",
   "mimetype": "text/x-python",
   "name": "python",
   "nbconvert_exporter": "python",
   "pygments_lexer": "ipython3",
   "version": "3.10.14"
  }
 },
 "nbformat": 4,
 "nbformat_minor": 5
}
